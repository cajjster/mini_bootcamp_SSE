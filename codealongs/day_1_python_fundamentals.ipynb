{
 "cells": [
  {
   "cell_type": "markdown",
   "id": "762a2722",
   "metadata": {},
   "source": [
    "<img align=\"center\" src=\"https://iili.io/3wI8gI.png\" style=\"height:90px\" style=\"width:30px\"/>"
   ]
  },
  {
   "cell_type": "markdown",
   "id": "b5f8dbd2",
   "metadata": {},
   "source": [
    "# Day 1 – Python Fundamentals\n",
    "\n",
    "Today is going to be all about understanding the basics of the most popular programming language in the world – Python! The concepts you'll learn here will be translatable to other programming languages as well."
   ]
  },
  {
   "cell_type": "code",
   "execution_count": 1,
   "id": "13368ad9",
   "metadata": {},
   "outputs": [],
   "source": [
    "# run this cell to save the data structures, we will use them later in this lecture.\n",
    "max_menus = {\n",
    "    \"Max Meny\": 79.00,\n",
    "    \"Max Dubbel Meny\": 109.00,\n",
    "    \"Kyckling Meny\": 79.00,\n",
    "    \"Vegetarisk Meny\": 85.00,\n",
    "    \"Max 3 Meny\": 99.00\n",
    "}\n",
    "\n",
    "queue = [90, 120, 122, 140, 139, 142, 145, 150, 160, 115, 140, 141, 122, 140, \n",
    "         139, 142, 145, 150, 160, 90, 120, 122, 140, 139, 142, 145, 150, 160]\n",
    "\n",
    "products = [{'name': 'Nintendo Switch', 'price': 3000, 'quantity': 10},  {'name': 'AirPods Pro', 'price': 2999, 'quantity': 0}, \n",
    "            {'name': 'Instant Pot', 'price': 499, 'quantity': 20},    {'name': 'Fitbit Charge 4', 'price': 1699, 'quantity': 0}, \n",
    "            {'name': 'Dyson Airwrap', 'price': 6999, 'quantity': 8}]"
   ]
  },
  {
   "cell_type": "code",
   "execution_count": 2,
   "id": "c8ad57cf",
   "metadata": {},
   "outputs": [
    {
     "name": "stdout",
     "output_type": "stream",
     "text": [
      "Hello, World!\n"
     ]
    }
   ],
   "source": [
    "print(\"Hello, World!\")"
   ]
  },
  {
   "cell_type": "code",
   "execution_count": 3,
   "id": "fff2a544",
   "metadata": {},
   "outputs": [
    {
     "data": {
      "text/plain": [
       "'I want to learn python'"
      ]
     },
     "execution_count": 3,
     "metadata": {},
     "output_type": "execute_result"
    }
   ],
   "source": [
    "\"I want to learn python\""
   ]
  },
  {
   "cell_type": "code",
   "execution_count": 4,
   "id": "49f4becf",
   "metadata": {},
   "outputs": [
    {
     "data": {
      "text/plain": [
       "'I am motivated to learn python'"
      ]
     },
     "execution_count": 4,
     "metadata": {},
     "output_type": "execute_result"
    }
   ],
   "source": [
    "\"I want to learn Python\"\n",
    "\"I am motivated to learn python\""
   ]
  },
  {
   "cell_type": "code",
   "execution_count": 5,
   "id": "495eef8c",
   "metadata": {},
   "outputs": [
    {
     "name": "stdout",
     "output_type": "stream",
     "text": [
      "I want to learn Python\n",
      "I am motivated to learn python\n"
     ]
    }
   ],
   "source": [
    "print(\"I want to learn Python\")\n",
    "print(\"I am motivated to learn python\")"
   ]
  },
  {
   "cell_type": "markdown",
   "id": "3d34c586",
   "metadata": {},
   "source": [
    "## Variables & The 4 data types"
   ]
  },
  {
   "cell_type": "markdown",
   "id": "cb01fb16",
   "metadata": {},
   "source": [
    "## "
   ]
  },
  {
   "cell_type": "code",
   "execution_count": 6,
   "id": "c2831f57",
   "metadata": {},
   "outputs": [],
   "source": [
    "my_var = \"Python is a versatile language\""
   ]
  },
  {
   "cell_type": "code",
   "execution_count": 7,
   "id": "b4397b5b",
   "metadata": {},
   "outputs": [
    {
     "data": {
      "text/plain": [
       "'Python is a versatile language'"
      ]
     },
     "execution_count": 7,
     "metadata": {},
     "output_type": "execute_result"
    }
   ],
   "source": [
    "my_var"
   ]
  },
  {
   "cell_type": "code",
   "execution_count": 49,
   "id": "0f672fc6",
   "metadata": {},
   "outputs": [
    {
     "name": "stdout",
     "output_type": "stream",
     "text": [
      "How old are you? 28\n"
     ]
    }
   ],
   "source": [
    "age = input(\"How old are you? \")"
   ]
  },
  {
   "cell_type": "code",
   "execution_count": 8,
   "id": "0c409076",
   "metadata": {},
   "outputs": [
    {
     "name": "stdout",
     "output_type": "stream",
     "text": [
      "What is your name? Axel\n",
      "How old are you? 28\n"
     ]
    }
   ],
   "source": [
    "name = input(\"What is your name? \")\n",
    "age = input(\"How old are you? \")"
   ]
  },
  {
   "cell_type": "code",
   "execution_count": 10,
   "id": "d7a08b0d",
   "metadata": {},
   "outputs": [
    {
     "data": {
      "text/plain": [
       "('Axel', '28')"
      ]
     },
     "execution_count": 10,
     "metadata": {},
     "output_type": "execute_result"
    }
   ],
   "source": [
    "name, age"
   ]
  },
  {
   "cell_type": "code",
   "execution_count": 11,
   "id": "57431273",
   "metadata": {},
   "outputs": [
    {
     "name": "stdout",
     "output_type": "stream",
     "text": [
      "My name is Axel and I am 28 years old!\n"
     ]
    }
   ],
   "source": [
    "print(\"My name is\", name, \"and I am\", age, \"years old!\")"
   ]
  },
  {
   "cell_type": "code",
   "execution_count": 12,
   "id": "d880da72",
   "metadata": {},
   "outputs": [
    {
     "name": "stdout",
     "output_type": "stream",
     "text": [
      "My name is Axel and I am 28 years old!\n"
     ]
    }
   ],
   "source": [
    "print(f\"My name is {name} and I am {age} years old!\")"
   ]
  },
  {
   "cell_type": "code",
   "execution_count": 13,
   "id": "d5f4a1cb",
   "metadata": {},
   "outputs": [
    {
     "data": {
      "text/plain": [
       "'string can be made with single quotes'"
      ]
     },
     "execution_count": 13,
     "metadata": {},
     "output_type": "execute_result"
    }
   ],
   "source": [
    "'string can be made with single quotes'"
   ]
  },
  {
   "cell_type": "code",
   "execution_count": 14,
   "id": "3274d1c9",
   "metadata": {},
   "outputs": [],
   "source": [
    "my_str = \"Strings are very useful\""
   ]
  },
  {
   "cell_type": "code",
   "execution_count": 15,
   "id": "8f526a98",
   "metadata": {},
   "outputs": [
    {
     "data": {
      "text/plain": [
       "'S'"
      ]
     },
     "execution_count": 15,
     "metadata": {},
     "output_type": "execute_result"
    }
   ],
   "source": [
    "my_str[0]"
   ]
  },
  {
   "cell_type": "code",
   "execution_count": 18,
   "id": "245ca288",
   "metadata": {},
   "outputs": [
    {
     "data": {
      "text/plain": [
       "'v'"
      ]
     },
     "execution_count": 18,
     "metadata": {},
     "output_type": "execute_result"
    }
   ],
   "source": [
    "my_str[12]"
   ]
  },
  {
   "cell_type": "code",
   "execution_count": 19,
   "id": "8cec4506",
   "metadata": {},
   "outputs": [
    {
     "data": {
      "text/plain": [
       "'l'"
      ]
     },
     "execution_count": 19,
     "metadata": {},
     "output_type": "execute_result"
    }
   ],
   "source": [
    "my_str[-1]"
   ]
  },
  {
   "cell_type": "code",
   "execution_count": 20,
   "id": "cef9d4ca",
   "metadata": {},
   "outputs": [
    {
     "data": {
      "text/plain": [
       "'very'"
      ]
     },
     "execution_count": 20,
     "metadata": {},
     "output_type": "execute_result"
    }
   ],
   "source": [
    "# to slice a string we use [start:stop]\n",
    "# we go from 12 to 16 but excluding 16\n",
    "my_str[12:16]"
   ]
  },
  {
   "cell_type": "code",
   "execution_count": 22,
   "id": "357fc0b4",
   "metadata": {},
   "outputs": [
    {
     "data": {
      "text/plain": [
       "'Strings are very'"
      ]
     },
     "execution_count": 22,
     "metadata": {},
     "output_type": "execute_result"
    }
   ],
   "source": [
    "my_str[:16]"
   ]
  },
  {
   "cell_type": "code",
   "execution_count": 23,
   "id": "2745591b",
   "metadata": {},
   "outputs": [
    {
     "data": {
      "text/plain": [
       "' useful'"
      ]
     },
     "execution_count": 23,
     "metadata": {},
     "output_type": "execute_result"
    }
   ],
   "source": [
    "my_str[16:]"
   ]
  },
  {
   "cell_type": "code",
   "execution_count": 24,
   "id": "802457e5",
   "metadata": {},
   "outputs": [
    {
     "data": {
      "text/plain": [
       "'23'"
      ]
     },
     "execution_count": 24,
     "metadata": {},
     "output_type": "execute_result"
    }
   ],
   "source": [
    "\"23\""
   ]
  },
  {
   "cell_type": "code",
   "execution_count": 25,
   "id": "15768dcd",
   "metadata": {},
   "outputs": [
    {
     "data": {
      "text/plain": [
       "'2323'"
      ]
     },
     "execution_count": 25,
     "metadata": {},
     "output_type": "execute_result"
    }
   ],
   "source": [
    "\"23\" + \"23\""
   ]
  },
  {
   "cell_type": "code",
   "execution_count": 26,
   "id": "d0c82a36",
   "metadata": {},
   "outputs": [
    {
     "data": {
      "text/plain": [
       "46"
      ]
     },
     "execution_count": 26,
     "metadata": {},
     "output_type": "execute_result"
    }
   ],
   "source": [
    "23 + 23"
   ]
  },
  {
   "cell_type": "code",
   "execution_count": 27,
   "id": "b5d32817",
   "metadata": {},
   "outputs": [
    {
     "data": {
      "text/plain": [
       "'We like Python'"
      ]
     },
     "execution_count": 27,
     "metadata": {},
     "output_type": "execute_result"
    }
   ],
   "source": [
    "\"We like\" + \" Python\""
   ]
  },
  {
   "cell_type": "code",
   "execution_count": 28,
   "id": "4fb74957",
   "metadata": {},
   "outputs": [
    {
     "data": {
      "text/plain": [
       "6"
      ]
     },
     "execution_count": 28,
     "metadata": {},
     "output_type": "execute_result"
    }
   ],
   "source": [
    "4 + 2"
   ]
  },
  {
   "cell_type": "code",
   "execution_count": 29,
   "id": "204d021f",
   "metadata": {},
   "outputs": [
    {
     "data": {
      "text/plain": [
       "18"
      ]
     },
     "execution_count": 29,
     "metadata": {},
     "output_type": "execute_result"
    }
   ],
   "source": [
    "30- 12"
   ]
  },
  {
   "cell_type": "code",
   "execution_count": 30,
   "id": "cdaa44e0",
   "metadata": {},
   "outputs": [
    {
     "data": {
      "text/plain": [
       "56"
      ]
     },
     "execution_count": 30,
     "metadata": {},
     "output_type": "execute_result"
    }
   ],
   "source": [
    "8*7"
   ]
  },
  {
   "cell_type": "code",
   "execution_count": 31,
   "id": "6065b4a7",
   "metadata": {},
   "outputs": [
    {
     "data": {
      "text/plain": [
       "3.0"
      ]
     },
     "execution_count": 31,
     "metadata": {},
     "output_type": "execute_result"
    }
   ],
   "source": [
    "12/4"
   ]
  },
  {
   "cell_type": "code",
   "execution_count": 33,
   "id": "e220e20e",
   "metadata": {},
   "outputs": [
    {
     "data": {
      "text/plain": [
       "4.5"
      ]
     },
     "execution_count": 33,
     "metadata": {},
     "output_type": "execute_result"
    }
   ],
   "source": [
    "2.5 + 2"
   ]
  },
  {
   "cell_type": "code",
   "execution_count": 34,
   "id": "8598284f",
   "metadata": {},
   "outputs": [
    {
     "data": {
      "text/plain": [
       "1"
      ]
     },
     "execution_count": 34,
     "metadata": {},
     "output_type": "execute_result"
    }
   ],
   "source": [
    "7%3"
   ]
  },
  {
   "cell_type": "code",
   "execution_count": 37,
   "id": "7a7a2655",
   "metadata": {},
   "outputs": [
    {
     "data": {
      "text/plain": [
       "True"
      ]
     },
     "execution_count": 37,
     "metadata": {},
     "output_type": "execute_result"
    }
   ],
   "source": [
    "odd = 7\n",
    "even = 6\n",
    "\n",
    "# is equal to ==\n",
    "even % 2 == 0"
   ]
  },
  {
   "cell_type": "code",
   "execution_count": 38,
   "id": "f5b9c6ad",
   "metadata": {},
   "outputs": [
    {
     "data": {
      "text/plain": [
       "True"
      ]
     },
     "execution_count": 38,
     "metadata": {},
     "output_type": "execute_result"
    }
   ],
   "source": [
    "\n",
    "# != not equal to\n",
    "odd % 2 != 0"
   ]
  },
  {
   "cell_type": "code",
   "execution_count": 39,
   "id": "48e580d2",
   "metadata": {},
   "outputs": [
    {
     "data": {
      "text/plain": [
       "bool"
      ]
     },
     "execution_count": 39,
     "metadata": {},
     "output_type": "execute_result"
    }
   ],
   "source": [
    "type(True)"
   ]
  },
  {
   "cell_type": "code",
   "execution_count": 40,
   "id": "94155ac1",
   "metadata": {},
   "outputs": [
    {
     "data": {
      "text/plain": [
       "(True, False)"
      ]
     },
     "execution_count": 40,
     "metadata": {},
     "output_type": "execute_result"
    }
   ],
   "source": [
    "True, False"
   ]
  },
  {
   "cell_type": "code",
   "execution_count": 41,
   "id": "96fb36cc",
   "metadata": {},
   "outputs": [
    {
     "data": {
      "text/plain": [
       "1"
      ]
     },
     "execution_count": 41,
     "metadata": {},
     "output_type": "execute_result"
    }
   ],
   "source": [
    "True + False"
   ]
  },
  {
   "cell_type": "markdown",
   "id": "16fee7c4",
   "metadata": {},
   "source": [
    "## Conditional logic | if-statements, and, or"
   ]
  },
  {
   "cell_type": "code",
   "execution_count": 43,
   "id": "094bcdba",
   "metadata": {},
   "outputs": [],
   "source": [
    "is_hungry = False\n",
    "\n",
    "if is_hungry:\n",
    "    print(\"Time for Fika\")"
   ]
  },
  {
   "cell_type": "code",
   "execution_count": 44,
   "id": "317e6f16",
   "metadata": {},
   "outputs": [
    {
     "name": "stdout",
     "output_type": "stream",
     "text": [
      "You don't need to eat\n"
     ]
    }
   ],
   "source": [
    "is_hungry = False\n",
    "\n",
    "if is_hungry:\n",
    "    print(\"Time for Fika\")\n",
    "else:\n",
    "    print(\"You don't need to eat\")"
   ]
  },
  {
   "cell_type": "code",
   "execution_count": 52,
   "id": "e6ddb0e3",
   "metadata": {},
   "outputs": [],
   "source": [
    "age = int(age)"
   ]
  },
  {
   "cell_type": "code",
   "execution_count": 53,
   "id": "5fb10ec4",
   "metadata": {},
   "outputs": [
    {
     "name": "stdout",
     "output_type": "stream",
     "text": [
      "Adult\n"
     ]
    }
   ],
   "source": [
    "#age = 28\n",
    "\n",
    "if age >= 0 and age < 13:\n",
    "    print(\"Child\")\n",
    "elif age >= 13 and age < 20:\n",
    "    print(\"Teenager\")\n",
    "elif age >= 20 and age < 67:\n",
    "    print(\"Adult\")\n",
    "else:\n",
    "    print(\"You are retired\")"
   ]
  },
  {
   "cell_type": "markdown",
   "id": "bd8605bd",
   "metadata": {},
   "source": [
    "## Lists"
   ]
  },
  {
   "cell_type": "code",
   "execution_count": 54,
   "id": "02d23c40",
   "metadata": {},
   "outputs": [],
   "source": [
    "lst = [\"lists are the most common data structures in python\", \"can hold any data type\", 2, True, 3.5, [1,2,3]]"
   ]
  },
  {
   "cell_type": "code",
   "execution_count": 55,
   "id": "708f6be0",
   "metadata": {},
   "outputs": [
    {
     "data": {
      "text/plain": [
       "['lists are the most common data structures in python',\n",
       " 'can hold any data type',\n",
       " 2,\n",
       " True,\n",
       " 3.5,\n",
       " [1, 2, 3]]"
      ]
     },
     "execution_count": 55,
     "metadata": {},
     "output_type": "execute_result"
    }
   ],
   "source": [
    "lst"
   ]
  },
  {
   "cell_type": "code",
   "execution_count": 56,
   "id": "07447ffd",
   "metadata": {},
   "outputs": [
    {
     "data": {
      "text/plain": [
       "6"
      ]
     },
     "execution_count": 56,
     "metadata": {},
     "output_type": "execute_result"
    }
   ],
   "source": [
    "len(lst)"
   ]
  },
  {
   "cell_type": "code",
   "execution_count": 57,
   "id": "918ef4bd",
   "metadata": {},
   "outputs": [
    {
     "data": {
      "text/plain": [
       "'lists are the most common data structures in python'"
      ]
     },
     "execution_count": 57,
     "metadata": {},
     "output_type": "execute_result"
    }
   ],
   "source": [
    "lst[0]"
   ]
  },
  {
   "cell_type": "code",
   "execution_count": 59,
   "id": "3cc30349",
   "metadata": {},
   "outputs": [
    {
     "data": {
      "text/plain": [
       "[1, 2, 3]"
      ]
     },
     "execution_count": 59,
     "metadata": {},
     "output_type": "execute_result"
    }
   ],
   "source": [
    "lst[-1]"
   ]
  },
  {
   "cell_type": "code",
   "execution_count": 60,
   "id": "3b952e59",
   "metadata": {},
   "outputs": [
    {
     "data": {
      "text/plain": [
       "['lists are the most common data structures in python',\n",
       " 'can hold any data type',\n",
       " 2,\n",
       " True]"
      ]
     },
     "execution_count": 60,
     "metadata": {},
     "output_type": "execute_result"
    }
   ],
   "source": [
    "lst[:4]"
   ]
  },
  {
   "cell_type": "code",
   "execution_count": 61,
   "id": "74c6d8a5",
   "metadata": {},
   "outputs": [],
   "source": [
    "lst.append(10000)"
   ]
  },
  {
   "cell_type": "code",
   "execution_count": 62,
   "id": "1c53ad09",
   "metadata": {},
   "outputs": [
    {
     "data": {
      "text/plain": [
       "['lists are the most common data structures in python',\n",
       " 'can hold any data type',\n",
       " 2,\n",
       " True,\n",
       " 3.5,\n",
       " [1, 2, 3],\n",
       " 10000]"
      ]
     },
     "execution_count": 62,
     "metadata": {},
     "output_type": "execute_result"
    }
   ],
   "source": [
    "lst"
   ]
  },
  {
   "cell_type": "markdown",
   "id": "1b29ff16",
   "metadata": {},
   "source": [
    "## Dictionary"
   ]
  },
  {
   "cell_type": "code",
   "execution_count": 67,
   "id": "78f7193f",
   "metadata": {},
   "outputs": [
    {
     "data": {
      "text/plain": [
       "{'Max Meny': 89.0,\n",
       " 'Max Dubbel Meny': 109.0,\n",
       " 'Kyckling Meny': 79.0,\n",
       " 'Vegetarisk Meny': 85.0,\n",
       " 'Max 3 Meny': 99.0}"
      ]
     },
     "execution_count": 67,
     "metadata": {},
     "output_type": "execute_result"
    }
   ],
   "source": [
    "# dicts have keys and values that belong to each other\n",
    "# keys must be unique\n",
    "max_menus"
   ]
  },
  {
   "cell_type": "code",
   "execution_count": 65,
   "id": "d7184b35",
   "metadata": {},
   "outputs": [
    {
     "data": {
      "text/plain": [
       "79.0"
      ]
     },
     "execution_count": 65,
     "metadata": {},
     "output_type": "execute_result"
    }
   ],
   "source": [
    "max_menus[\"Max Meny\"]"
   ]
  },
  {
   "cell_type": "code",
   "execution_count": 66,
   "id": "ed009467",
   "metadata": {},
   "outputs": [],
   "source": [
    "max_menus[\"Max Meny\"] = 89.0"
   ]
  },
  {
   "cell_type": "code",
   "execution_count": 68,
   "id": "777aa7a3",
   "metadata": {},
   "outputs": [],
   "source": [
    "max_menus[\"Korean BBQ\"] = 119.0"
   ]
  },
  {
   "cell_type": "code",
   "execution_count": 69,
   "id": "421b25bd",
   "metadata": {},
   "outputs": [
    {
     "data": {
      "text/plain": [
       "{'Max Meny': 89.0,\n",
       " 'Max Dubbel Meny': 109.0,\n",
       " 'Kyckling Meny': 79.0,\n",
       " 'Vegetarisk Meny': 85.0,\n",
       " 'Max 3 Meny': 99.0,\n",
       " 'Korean BBQ': 119.0}"
      ]
     },
     "execution_count": 69,
     "metadata": {},
     "output_type": "execute_result"
    }
   ],
   "source": [
    "max_menus"
   ]
  },
  {
   "cell_type": "code",
   "execution_count": 70,
   "id": "205d69a2",
   "metadata": {},
   "outputs": [
    {
     "data": {
      "text/plain": [
       "dict_keys(['Max Meny', 'Max Dubbel Meny', 'Kyckling Meny', 'Vegetarisk Meny', 'Max 3 Meny', 'Korean BBQ'])"
      ]
     },
     "execution_count": 70,
     "metadata": {},
     "output_type": "execute_result"
    }
   ],
   "source": [
    "max_menus.keys()"
   ]
  },
  {
   "cell_type": "code",
   "execution_count": 71,
   "id": "3b0b1aba",
   "metadata": {},
   "outputs": [
    {
     "data": {
      "text/plain": [
       "dict_values([89.0, 109.0, 79.0, 85.0, 99.0, 119.0])"
      ]
     },
     "execution_count": 71,
     "metadata": {},
     "output_type": "execute_result"
    }
   ],
   "source": [
    "max_menus.values()"
   ]
  },
  {
   "cell_type": "code",
   "execution_count": 72,
   "id": "51db59ca",
   "metadata": {},
   "outputs": [
    {
     "data": {
      "text/plain": [
       "dict_items([('Max Meny', 89.0), ('Max Dubbel Meny', 109.0), ('Kyckling Meny', 79.0), ('Vegetarisk Meny', 85.0), ('Max 3 Meny', 99.0), ('Korean BBQ', 119.0)])"
      ]
     },
     "execution_count": 72,
     "metadata": {},
     "output_type": "execute_result"
    }
   ],
   "source": [
    "max_menus.items()"
   ]
  },
  {
   "cell_type": "code",
   "execution_count": 73,
   "id": "ff7c6628",
   "metadata": {},
   "outputs": [],
   "source": [
    "this_is_a_tuple = (12,3,4,5)"
   ]
  },
  {
   "cell_type": "markdown",
   "id": "9daee360",
   "metadata": {},
   "source": [
    "## For Loops"
   ]
  },
  {
   "cell_type": "code",
   "execution_count": 74,
   "id": "9ffee327",
   "metadata": {
    "collapsed": true
   },
   "outputs": [
    {
     "name": "stdout",
     "output_type": "stream",
     "text": [
      "A loop is a way to repeat a set of instructions over and over again until a certain condition is met\n",
      "A loop is a way to repeat a set of instructions over and over again until a certain condition is met\n",
      "A loop is a way to repeat a set of instructions over and over again until a certain condition is met\n",
      "A loop is a way to repeat a set of instructions over and over again until a certain condition is met\n",
      "A loop is a way to repeat a set of instructions over and over again until a certain condition is met\n",
      "A loop is a way to repeat a set of instructions over and over again until a certain condition is met\n",
      "A loop is a way to repeat a set of instructions over and over again until a certain condition is met\n",
      "A loop is a way to repeat a set of instructions over and over again until a certain condition is met\n",
      "A loop is a way to repeat a set of instructions over and over again until a certain condition is met\n",
      "A loop is a way to repeat a set of instructions over and over again until a certain condition is met\n",
      "A loop is a way to repeat a set of instructions over and over again until a certain condition is met\n",
      "A loop is a way to repeat a set of instructions over and over again until a certain condition is met\n",
      "A loop is a way to repeat a set of instructions over and over again until a certain condition is met\n",
      "A loop is a way to repeat a set of instructions over and over again until a certain condition is met\n",
      "A loop is a way to repeat a set of instructions over and over again until a certain condition is met\n",
      "A loop is a way to repeat a set of instructions over and over again until a certain condition is met\n",
      "A loop is a way to repeat a set of instructions over and over again until a certain condition is met\n",
      "A loop is a way to repeat a set of instructions over and over again until a certain condition is met\n",
      "A loop is a way to repeat a set of instructions over and over again until a certain condition is met\n",
      "A loop is a way to repeat a set of instructions over and over again until a certain condition is met\n",
      "A loop is a way to repeat a set of instructions over and over again until a certain condition is met\n",
      "A loop is a way to repeat a set of instructions over and over again until a certain condition is met\n",
      "A loop is a way to repeat a set of instructions over and over again until a certain condition is met\n",
      "A loop is a way to repeat a set of instructions over and over again until a certain condition is met\n",
      "A loop is a way to repeat a set of instructions over and over again until a certain condition is met\n",
      "A loop is a way to repeat a set of instructions over and over again until a certain condition is met\n",
      "A loop is a way to repeat a set of instructions over and over again until a certain condition is met\n",
      "A loop is a way to repeat a set of instructions over and over again until a certain condition is met\n",
      "A loop is a way to repeat a set of instructions over and over again until a certain condition is met\n",
      "A loop is a way to repeat a set of instructions over and over again until a certain condition is met\n",
      "A loop is a way to repeat a set of instructions over and over again until a certain condition is met\n",
      "A loop is a way to repeat a set of instructions over and over again until a certain condition is met\n",
      "A loop is a way to repeat a set of instructions over and over again until a certain condition is met\n",
      "A loop is a way to repeat a set of instructions over and over again until a certain condition is met\n",
      "A loop is a way to repeat a set of instructions over and over again until a certain condition is met\n",
      "A loop is a way to repeat a set of instructions over and over again until a certain condition is met\n",
      "A loop is a way to repeat a set of instructions over and over again until a certain condition is met\n",
      "A loop is a way to repeat a set of instructions over and over again until a certain condition is met\n",
      "A loop is a way to repeat a set of instructions over and over again until a certain condition is met\n",
      "A loop is a way to repeat a set of instructions over and over again until a certain condition is met\n",
      "A loop is a way to repeat a set of instructions over and over again until a certain condition is met\n",
      "A loop is a way to repeat a set of instructions over and over again until a certain condition is met\n",
      "A loop is a way to repeat a set of instructions over and over again until a certain condition is met\n",
      "A loop is a way to repeat a set of instructions over and over again until a certain condition is met\n",
      "A loop is a way to repeat a set of instructions over and over again until a certain condition is met\n",
      "A loop is a way to repeat a set of instructions over and over again until a certain condition is met\n",
      "A loop is a way to repeat a set of instructions over and over again until a certain condition is met\n",
      "A loop is a way to repeat a set of instructions over and over again until a certain condition is met\n",
      "A loop is a way to repeat a set of instructions over and over again until a certain condition is met\n",
      "A loop is a way to repeat a set of instructions over and over again until a certain condition is met\n",
      "A loop is a way to repeat a set of instructions over and over again until a certain condition is met\n",
      "A loop is a way to repeat a set of instructions over and over again until a certain condition is met\n",
      "A loop is a way to repeat a set of instructions over and over again until a certain condition is met\n",
      "A loop is a way to repeat a set of instructions over and over again until a certain condition is met\n",
      "A loop is a way to repeat a set of instructions over and over again until a certain condition is met\n",
      "A loop is a way to repeat a set of instructions over and over again until a certain condition is met\n",
      "A loop is a way to repeat a set of instructions over and over again until a certain condition is met\n",
      "A loop is a way to repeat a set of instructions over and over again until a certain condition is met\n",
      "A loop is a way to repeat a set of instructions over and over again until a certain condition is met\n",
      "A loop is a way to repeat a set of instructions over and over again until a certain condition is met\n",
      "A loop is a way to repeat a set of instructions over and over again until a certain condition is met\n",
      "A loop is a way to repeat a set of instructions over and over again until a certain condition is met\n",
      "A loop is a way to repeat a set of instructions over and over again until a certain condition is met\n",
      "A loop is a way to repeat a set of instructions over and over again until a certain condition is met\n",
      "A loop is a way to repeat a set of instructions over and over again until a certain condition is met\n",
      "A loop is a way to repeat a set of instructions over and over again until a certain condition is met\n",
      "A loop is a way to repeat a set of instructions over and over again until a certain condition is met\n",
      "A loop is a way to repeat a set of instructions over and over again until a certain condition is met\n",
      "A loop is a way to repeat a set of instructions over and over again until a certain condition is met\n",
      "A loop is a way to repeat a set of instructions over and over again until a certain condition is met\n",
      "A loop is a way to repeat a set of instructions over and over again until a certain condition is met\n",
      "A loop is a way to repeat a set of instructions over and over again until a certain condition is met\n",
      "A loop is a way to repeat a set of instructions over and over again until a certain condition is met\n",
      "A loop is a way to repeat a set of instructions over and over again until a certain condition is met\n",
      "A loop is a way to repeat a set of instructions over and over again until a certain condition is met\n",
      "A loop is a way to repeat a set of instructions over and over again until a certain condition is met\n",
      "A loop is a way to repeat a set of instructions over and over again until a certain condition is met\n",
      "A loop is a way to repeat a set of instructions over and over again until a certain condition is met\n",
      "A loop is a way to repeat a set of instructions over and over again until a certain condition is met\n",
      "A loop is a way to repeat a set of instructions over and over again until a certain condition is met\n",
      "A loop is a way to repeat a set of instructions over and over again until a certain condition is met\n",
      "A loop is a way to repeat a set of instructions over and over again until a certain condition is met\n",
      "A loop is a way to repeat a set of instructions over and over again until a certain condition is met\n",
      "A loop is a way to repeat a set of instructions over and over again until a certain condition is met\n",
      "A loop is a way to repeat a set of instructions over and over again until a certain condition is met\n",
      "A loop is a way to repeat a set of instructions over and over again until a certain condition is met\n",
      "A loop is a way to repeat a set of instructions over and over again until a certain condition is met\n",
      "A loop is a way to repeat a set of instructions over and over again until a certain condition is met\n",
      "A loop is a way to repeat a set of instructions over and over again until a certain condition is met\n",
      "A loop is a way to repeat a set of instructions over and over again until a certain condition is met\n",
      "A loop is a way to repeat a set of instructions over and over again until a certain condition is met\n",
      "A loop is a way to repeat a set of instructions over and over again until a certain condition is met\n",
      "A loop is a way to repeat a set of instructions over and over again until a certain condition is met\n",
      "A loop is a way to repeat a set of instructions over and over again until a certain condition is met\n",
      "A loop is a way to repeat a set of instructions over and over again until a certain condition is met\n",
      "A loop is a way to repeat a set of instructions over and over again until a certain condition is met\n",
      "A loop is a way to repeat a set of instructions over and over again until a certain condition is met\n",
      "A loop is a way to repeat a set of instructions over and over again until a certain condition is met\n",
      "A loop is a way to repeat a set of instructions over and over again until a certain condition is met\n",
      "A loop is a way to repeat a set of instructions over and over again until a certain condition is met\n"
     ]
    }
   ],
   "source": [
    "loop_def = \"A loop is a way to repeat a set of instructions over and over again until a certain condition is met\"\n",
    "\n",
    "for i in range(100):\n",
    "    print(loop_def)\n"
   ]
  },
  {
   "cell_type": "code",
   "execution_count": 75,
   "id": "228bd8ea",
   "metadata": {},
   "outputs": [
    {
     "name": "stdout",
     "output_type": "stream",
     "text": [
      "0\n",
      "1\n",
      "2\n",
      "3\n",
      "4\n",
      "5\n",
      "6\n",
      "7\n",
      "8\n",
      "9\n"
     ]
    }
   ],
   "source": [
    "for i in range(10):\n",
    "    print(i)"
   ]
  },
  {
   "cell_type": "code",
   "execution_count": 76,
   "id": "7cd3afff",
   "metadata": {},
   "outputs": [
    {
     "name": "stdout",
     "output_type": "stream",
     "text": [
      "0\n",
      "1\n",
      "2\n",
      "3\n",
      "4\n",
      "5\n",
      "6\n",
      "7\n",
      "8\n",
      "9\n"
     ]
    }
   ],
   "source": [
    "for x in range(10):\n",
    "    print(x)"
   ]
  },
  {
   "cell_type": "code",
   "execution_count": 77,
   "id": "56919f97",
   "metadata": {},
   "outputs": [
    {
     "name": "stdout",
     "output_type": "stream",
     "text": [
      "lists are the most common data structures in python\n",
      "can hold any data type\n",
      "2\n",
      "True\n",
      "3.5\n",
      "[1, 2, 3]\n",
      "10000\n"
     ]
    }
   ],
   "source": [
    "for item in lst:\n",
    "    print(item)"
   ]
  },
  {
   "cell_type": "code",
   "execution_count": 78,
   "id": "7d0f948c",
   "metadata": {},
   "outputs": [
    {
     "data": {
      "text/plain": [
       "[90,\n",
       " 120,\n",
       " 122,\n",
       " 140,\n",
       " 139,\n",
       " 142,\n",
       " 145,\n",
       " 150,\n",
       " 160,\n",
       " 115,\n",
       " 140,\n",
       " 141,\n",
       " 122,\n",
       " 140,\n",
       " 139,\n",
       " 142,\n",
       " 145,\n",
       " 150,\n",
       " 160,\n",
       " 90,\n",
       " 120,\n",
       " 122,\n",
       " 140,\n",
       " 139,\n",
       " 142,\n",
       " 145,\n",
       " 150,\n",
       " 160]"
      ]
     },
     "execution_count": 78,
     "metadata": {},
     "output_type": "execute_result"
    }
   ],
   "source": [
    "queue"
   ]
  },
  {
   "cell_type": "code",
   "execution_count": 81,
   "id": "a9312487",
   "metadata": {},
   "outputs": [
    {
     "name": "stdout",
     "output_type": "stream",
     "text": [
      "You are too short, come back next year! 90\n",
      "You are too short, come back next year! 120\n",
      "You are too short, come back next year! 122\n",
      "You may board the rollercoaster 140\n",
      "You are too short, come back next year! 139\n",
      "You may board the rollercoaster 142\n",
      "You may board the rollercoaster 145\n",
      "You may board the rollercoaster 150\n",
      "You may board the rollercoaster 160\n",
      "You are too short, come back next year! 115\n",
      "You may board the rollercoaster 140\n",
      "You may board the rollercoaster 141\n",
      "You are too short, come back next year! 122\n",
      "You may board the rollercoaster 140\n",
      "You are too short, come back next year! 139\n",
      "You may board the rollercoaster 142\n",
      "You may board the rollercoaster 145\n",
      "You may board the rollercoaster 150\n",
      "You may board the rollercoaster 160\n",
      "You are too short, come back next year! 90\n",
      "You are too short, come back next year! 120\n",
      "You are too short, come back next year! 122\n",
      "You may board the rollercoaster 140\n",
      "You are too short, come back next year! 139\n",
      "You may board the rollercoaster 142\n",
      "You may board the rollercoaster 145\n",
      "You may board the rollercoaster 150\n",
      "You may board the rollercoaster 160\n"
     ]
    }
   ],
   "source": [
    "for person in queue:\n",
    "    if person >= 140:\n",
    "        print(\"You may board the rollercoaster\", person)\n",
    "    else:\n",
    "        print(\"You are too short, come back next year!\", person)"
   ]
  },
  {
   "cell_type": "code",
   "execution_count": 84,
   "id": "353db655",
   "metadata": {},
   "outputs": [
    {
     "data": {
      "text/plain": [
       "[{'name': 'Nintendo Switch', 'price': 3000, 'quantity': 10},\n",
       " {'name': 'AirPods Pro', 'price': 2999, 'quantity': 0},\n",
       " {'name': 'Instant Pot', 'price': 499, 'quantity': 20},\n",
       " {'name': 'Fitbit Charge 4', 'price': 1699, 'quantity': 0},\n",
       " {'name': 'Dyson Airwrap', 'price': 6999, 'quantity': 8}]"
      ]
     },
     "execution_count": 84,
     "metadata": {},
     "output_type": "execute_result"
    }
   ],
   "source": [
    "products"
   ]
  },
  {
   "cell_type": "code",
   "execution_count": 85,
   "id": "718d716d",
   "metadata": {},
   "outputs": [
    {
     "data": {
      "text/plain": [
       "['AirPods Pro', 'Fitbit Charge 4']"
      ]
     },
     "execution_count": 85,
     "metadata": {},
     "output_type": "execute_result"
    }
   ],
   "source": [
    "out_of_stock_products = []\n",
    "\n",
    "for product in products:\n",
    "    if product['quantity'] == 0:\n",
    "        out_of_stock_products.append(product[\"name\"])\n",
    "        \n",
    "out_of_stock_products"
   ]
  },
  {
   "cell_type": "markdown",
   "id": "96037acb",
   "metadata": {},
   "source": [
    "## While loops"
   ]
  },
  {
   "cell_type": "code",
   "execution_count": 87,
   "id": "67ecbaf1",
   "metadata": {},
   "outputs": [
    {
     "name": "stdout",
     "output_type": "stream",
     "text": [
      "Count is:  0\n",
      "Count is:  1\n",
      "Count is:  2\n",
      "Count is:  3\n",
      "Count is:  4\n"
     ]
    }
   ],
   "source": [
    "count = 0\n",
    "while count < 5:\n",
    "    print(\"Count is: \", count)\n",
    "    count += 1\n",
    "    "
   ]
  },
  {
   "cell_type": "code",
   "execution_count": 88,
   "id": "683ea357",
   "metadata": {},
   "outputs": [
    {
     "name": "stdout",
     "output_type": "stream",
     "text": [
      "Enter your password: fhgghf\n",
      "Access denied.\n",
      "Enter your password: kghy\n",
      "Access denied.\n",
      "Enter your password: t\n",
      "Access denied.\n",
      "Enter your password: fgsd\n",
      "Access denied.\n",
      "Enter your password: dsfg\n",
      "Access denied.\n",
      "Enter your password: dgfs\n",
      "Access denied.\n",
      "Enter your password: dsgf\n",
      "Access denied.\n",
      "Enter your password: password123\n",
      "Access granted.\n"
     ]
    }
   ],
   "source": [
    "password = \"\"\n",
    "\n",
    "while password != \"password123\":\n",
    "    password = input(\"Enter your password: \")\n",
    "    if password == \"password123\":\n",
    "        print(\"Access granted.\")\n",
    "    else:\n",
    "        print(\"Access denied.\")"
   ]
  },
  {
   "cell_type": "markdown",
   "id": "68630df8",
   "metadata": {},
   "source": [
    "## Functions"
   ]
  },
  {
   "cell_type": "code",
   "execution_count": 89,
   "id": "a36bdcdd",
   "metadata": {},
   "outputs": [
    {
     "data": {
      "text/plain": [
       "170"
      ]
     },
     "execution_count": 89,
     "metadata": {},
     "output_type": "execute_result"
    }
   ],
   "source": [
    "sum([12,3,4,5,56,6,6,6,6,66])"
   ]
  },
  {
   "cell_type": "code",
   "execution_count": 94,
   "id": "dff5f4f4",
   "metadata": {},
   "outputs": [
    {
     "data": {
      "text/plain": [
       "10000"
      ]
     },
     "execution_count": 94,
     "metadata": {},
     "output_type": "execute_result"
    }
   ],
   "source": [
    "lst[6]"
   ]
  },
  {
   "cell_type": "code",
   "execution_count": 90,
   "id": "6e4ec367",
   "metadata": {},
   "outputs": [
    {
     "data": {
      "text/plain": [
       "7"
      ]
     },
     "execution_count": 90,
     "metadata": {},
     "output_type": "execute_result"
    }
   ],
   "source": [
    "len(lst)"
   ]
  },
  {
   "cell_type": "code",
   "execution_count": 92,
   "id": "82d6938a",
   "metadata": {},
   "outputs": [
    {
     "data": {
      "text/plain": [
       "5"
      ]
     },
     "execution_count": 92,
     "metadata": {},
     "output_type": "execute_result"
    }
   ],
   "source": [
    "abs(-5)"
   ]
  },
  {
   "cell_type": "code",
   "execution_count": 95,
   "id": "0b82e39e",
   "metadata": {},
   "outputs": [
    {
     "name": "stdout",
     "output_type": "stream",
     "text": [
      "You should tip: 120.0 SEK\n"
     ]
    }
   ],
   "source": [
    "bill_amount = 800\n",
    "tip_percent = 0.15\n",
    "tip_amount = bill_amount * tip_percent\n",
    "\n",
    "print(\"You should tip:\", tip_amount, \"SEK\")"
   ]
  },
  {
   "cell_type": "code",
   "execution_count": 96,
   "id": "89c34e24",
   "metadata": {},
   "outputs": [],
   "source": [
    "bills = [123, 222, 800, 1200, 2346, 3456, 1223, 5648]"
   ]
  },
  {
   "cell_type": "code",
   "execution_count": 97,
   "id": "c388daac",
   "metadata": {},
   "outputs": [],
   "source": [
    "def calculate_tip(bill_amount, tip_percent):\n",
    "    tip_amount = bill_amount * tip_percent\n",
    "    return round(tip_amount, 2)"
   ]
  },
  {
   "cell_type": "code",
   "execution_count": 98,
   "id": "dd3d1d7b",
   "metadata": {
    "collapsed": true
   },
   "outputs": [
    {
     "name": "stdout",
     "output_type": "stream",
     "text": [
      "The Zen of Python, by Tim Peters\n",
      "\n",
      "Beautiful is better than ugly.\n",
      "Explicit is better than implicit.\n",
      "Simple is better than complex.\n",
      "Complex is better than complicated.\n",
      "Flat is better than nested.\n",
      "Sparse is better than dense.\n",
      "Readability counts.\n",
      "Special cases aren't special enough to break the rules.\n",
      "Although practicality beats purity.\n",
      "Errors should never pass silently.\n",
      "Unless explicitly silenced.\n",
      "In the face of ambiguity, refuse the temptation to guess.\n",
      "There should be one-- and preferably only one --obvious way to do it.\n",
      "Although that way may not be obvious at first unless you're Dutch.\n",
      "Now is better than never.\n",
      "Although never is often better than *right* now.\n",
      "If the implementation is hard to explain, it's a bad idea.\n",
      "If the implementation is easy to explain, it may be a good idea.\n",
      "Namespaces are one honking great idea -- let's do more of those!\n"
     ]
    }
   ],
   "source": [
    "import this"
   ]
  },
  {
   "cell_type": "code",
   "execution_count": 99,
   "id": "76d84f13",
   "metadata": {},
   "outputs": [
    {
     "name": "stdout",
     "output_type": "stream",
     "text": [
      "18.45\n",
      "33.3\n",
      "120.0\n",
      "180.0\n",
      "351.9\n",
      "518.4\n",
      "183.45\n",
      "847.2\n"
     ]
    }
   ],
   "source": [
    "for bill in bills:\n",
    "    print(calculate_tip(bill, 0.15))"
   ]
  },
  {
   "cell_type": "code",
   "execution_count": 101,
   "id": "be728641",
   "metadata": {},
   "outputs": [],
   "source": [
    "def time_per_km(total_time, distance):\n",
    "    # conver total time from minutes to seconds\n",
    "    time_in_seconds = total_time *60\n",
    "    # calculate time per kilometer in seconds\n",
    "    time_per_km_in_seconds = time_in_seconds / distance\n",
    "    # convert time per kilometer back to minutes and seconds\n",
    "    minutes, seconds = divmod(time_per_km_in_seconds, 60)\n",
    "    # return a formatted time per kilometer string\n",
    "    return f\"{int(minutes):02d}:{int(seconds):02d} per km\""
   ]
  },
  {
   "cell_type": "code",
   "execution_count": 102,
   "id": "d5454130",
   "metadata": {},
   "outputs": [
    {
     "data": {
      "text/plain": [
       "'04:45 per km'"
      ]
     },
     "execution_count": 102,
     "metadata": {},
     "output_type": "execute_result"
    }
   ],
   "source": [
    "time_per_km(38, 8)"
   ]
  },
  {
   "cell_type": "code",
   "execution_count": null,
   "id": "24383ab8",
   "metadata": {},
   "outputs": [],
   "source": []
  }
 ],
 "metadata": {
  "kernelspec": {
   "display_name": "Python 3 (ipykernel)",
   "language": "python",
   "name": "python3"
  },
  "language_info": {
   "codemirror_mode": {
    "name": "ipython",
    "version": 3
   },
   "file_extension": ".py",
   "mimetype": "text/x-python",
   "name": "python",
   "nbconvert_exporter": "python",
   "pygments_lexer": "ipython3",
   "version": "3.11.5"
  },
  "varInspector": {
   "cols": {
    "lenName": 16,
    "lenType": 16,
    "lenVar": 40
   },
   "kernels_config": {
    "python": {
     "delete_cmd_postfix": "",
     "delete_cmd_prefix": "del ",
     "library": "var_list.py",
     "varRefreshCmd": "print(var_dic_list())"
    },
    "r": {
     "delete_cmd_postfix": ") ",
     "delete_cmd_prefix": "rm(",
     "library": "var_list.r",
     "varRefreshCmd": "cat(var_dic_list()) "
    }
   },
   "types_to_exclude": [
    "module",
    "function",
    "builtin_function_or_method",
    "instance",
    "_Feature"
   ],
   "window_display": false
  }
 },
 "nbformat": 4,
 "nbformat_minor": 5
}
