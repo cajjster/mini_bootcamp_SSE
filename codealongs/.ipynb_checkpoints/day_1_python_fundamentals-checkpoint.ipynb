{
 "cells": [
  {
   "cell_type": "markdown",
   "id": "762a2722",
   "metadata": {},
   "source": [
    "<img align=\"center\" src=\"https://iili.io/3wI8gI.png\" style=\"height:90px\" style=\"width:30px\"/>"
   ]
  },
  {
   "cell_type": "markdown",
   "id": "b5f8dbd2",
   "metadata": {},
   "source": [
    "# Day 1 – Python Fundamentals\n",
    "\n",
    "Today is going to be all about understanding the basics of the most popular programming language in the world – Python! The concepts you'll learn here will be translatable to other programming languages as well."
   ]
  },
  {
   "cell_type": "code",
   "execution_count": 1,
   "id": "13368ad9",
   "metadata": {},
   "outputs": [],
   "source": [
    "# run this cell to save the data structures, we will use them later in this lecture.\n",
    "max_menus = {\n",
    "    \"Max Meny\": 79.00,\n",
    "    \"Max Dubbel Meny\": 109.00,\n",
    "    \"Kyckling Meny\": 79.00,\n",
    "    \"Vegetarisk Meny\": 85.00,\n",
    "    \"Max 3 Meny\": 99.00\n",
    "}\n",
    "\n",
    "queue = [90, 120, 122, 140, 139, 142, 145, 150, 160, 115, 140, 141, 122, 140, \n",
    "         139, 142, 145, 150, 160, 90, 120, 122, 140, 139, 142, 145, 150, 160]\n",
    "\n",
    "products = [{'name': 'Nintendo Switch', 'price': 3000, 'quantity': 10},  {'name': 'AirPods Pro', 'price': 2999, 'quantity': 0}, \n",
    "            {'name': 'Instant Pot', 'price': 499, 'quantity': 20},    {'name': 'Fitbit Charge 4', 'price': 1699, 'quantity': 0}, \n",
    "            {'name': 'Dyson Airwrap', 'price': 6999, 'quantity': 8}]"
   ]
  },
  {
   "cell_type": "code",
   "execution_count": 2,
   "id": "c8ad57cf",
   "metadata": {},
   "outputs": [
    {
     "name": "stdout",
     "output_type": "stream",
     "text": [
      "Hello, World!\n"
     ]
    }
   ],
   "source": [
    "print(\"Hello, World!\")"
   ]
  },
  {
   "cell_type": "code",
   "execution_count": 3,
   "id": "862988d1",
   "metadata": {},
   "outputs": [
    {
     "data": {
      "text/plain": [
       "'I want to learn python'"
      ]
     },
     "execution_count": 3,
     "metadata": {},
     "output_type": "execute_result"
    }
   ],
   "source": [
    "\"I want to learn python\""
   ]
  },
  {
   "cell_type": "code",
   "execution_count": 4,
   "id": "322d9fff",
   "metadata": {},
   "outputs": [
    {
     "data": {
      "text/plain": [
       "'I am motivated to learn python'"
      ]
     },
     "execution_count": 4,
     "metadata": {},
     "output_type": "execute_result"
    }
   ],
   "source": [
    "\"I want to learn Python\"\n",
    "\"I am motivated to learn python\""
   ]
  },
  {
   "cell_type": "code",
   "execution_count": 5,
   "id": "f29dac46",
   "metadata": {},
   "outputs": [
    {
     "name": "stdout",
     "output_type": "stream",
     "text": [
      "I want to learn Python\n",
      "I am motivated to learn python\n"
     ]
    }
   ],
   "source": [
    "print(\"I want to learn Python\")\n",
    "print(\"I am motivated to learn python\")"
   ]
  },
  {
   "cell_type": "markdown",
   "id": "f978d209",
   "metadata": {},
   "source": [
    "## Variables & The 4 data types"
   ]
  },
  {
   "cell_type": "code",
   "execution_count": 6,
   "id": "182af910",
   "metadata": {},
   "outputs": [],
   "source": [
    "my_var = \"Python is a versatile language\""
   ]
  },
  {
   "cell_type": "code",
   "execution_count": 7,
   "id": "0cb5814e",
   "metadata": {},
   "outputs": [
    {
     "data": {
      "text/plain": [
       "'Python is a versatile language'"
      ]
     },
     "execution_count": 7,
     "metadata": {},
     "output_type": "execute_result"
    }
   ],
   "source": [
    "my_var"
   ]
  },
  {
   "cell_type": "code",
   "execution_count": 49,
   "id": "54fd99b0",
   "metadata": {},
   "outputs": [
    {
     "name": "stdout",
     "output_type": "stream",
     "text": [
      "How old are you? 28\n"
     ]
    }
   ],
   "source": [
    "age = input(\"How old are you? \")"
   ]
  },
  {
   "cell_type": "code",
   "execution_count": 8,
   "id": "c0e8dee5",
   "metadata": {},
   "outputs": [
    {
     "name": "stdout",
     "output_type": "stream",
     "text": [
      "What is your name? Axel\n",
      "How old are you? 28\n"
     ]
    }
   ],
   "source": [
    "name = input(\"What is your name? \")\n",
    "age = input(\"How old are you? \")"
   ]
  },
  {
   "cell_type": "code",
   "execution_count": 10,
   "id": "123b71f3",
   "metadata": {},
   "outputs": [
    {
     "data": {
      "text/plain": [
       "('Axel', '28')"
      ]
     },
     "execution_count": 10,
     "metadata": {},
     "output_type": "execute_result"
    }
   ],
   "source": [
    "name, age"
   ]
  },
  {
   "cell_type": "code",
   "execution_count": 11,
   "id": "e3b51cfe",
   "metadata": {},
   "outputs": [
    {
     "name": "stdout",
     "output_type": "stream",
     "text": [
      "My name is Axel and I am 28 years old!\n"
     ]
    }
   ],
   "source": [
    "print(\"My name is\", name, \"and I am\", age, \"years old!\")"
   ]
  },
  {
   "cell_type": "code",
   "execution_count": 12,
   "id": "fa67a6bf",
   "metadata": {},
   "outputs": [
    {
     "name": "stdout",
     "output_type": "stream",
     "text": [
      "My name is Axel and I am 28 years old!\n"
     ]
    }
   ],
   "source": [
    "print(f\"My name is {name} and I am {age} years old!\")"
   ]
  },
  {
   "cell_type": "code",
   "execution_count": 13,
   "id": "47dc25e1",
   "metadata": {},
   "outputs": [
    {
     "data": {
      "text/plain": [
       "'string can be made with single quotes'"
      ]
     },
     "execution_count": 13,
     "metadata": {},
     "output_type": "execute_result"
    }
   ],
   "source": [
    "'string can be made with single quotes'"
   ]
  },
  {
   "cell_type": "code",
   "execution_count": 14,
   "id": "c4e48b9b",
   "metadata": {},
   "outputs": [],
   "source": [
    "my_str = \"Strings are very useful\""
   ]
  },
  {
   "cell_type": "code",
   "execution_count": 15,
   "id": "37fa4b8d",
   "metadata": {},
   "outputs": [
    {
     "data": {
      "text/plain": [
       "'S'"
      ]
     },
     "execution_count": 15,
     "metadata": {},
     "output_type": "execute_result"
    }
   ],
   "source": [
    "my_str[0]"
   ]
  },
  {
   "cell_type": "code",
   "execution_count": 18,
   "id": "1a7ed7f6",
   "metadata": {},
   "outputs": [
    {
     "data": {
      "text/plain": [
       "'v'"
      ]
     },
     "execution_count": 18,
     "metadata": {},
     "output_type": "execute_result"
    }
   ],
   "source": [
    "my_str[12]"
   ]
  },
  {
   "cell_type": "code",
   "execution_count": 19,
   "id": "4466b5a7",
   "metadata": {},
   "outputs": [
    {
     "data": {
      "text/plain": [
       "'l'"
      ]
     },
     "execution_count": 19,
     "metadata": {},
     "output_type": "execute_result"
    }
   ],
   "source": [
    "my_str[-1]"
   ]
  },
  {
   "cell_type": "code",
   "execution_count": 20,
   "id": "0614d1c5",
   "metadata": {},
   "outputs": [
    {
     "data": {
      "text/plain": [
       "'very'"
      ]
     },
     "execution_count": 20,
     "metadata": {},
     "output_type": "execute_result"
    }
   ],
   "source": [
    "# to slice a string we use [start:stop]\n",
    "# we go from 12 to 16 but excluding 16\n",
    "my_str[12:16]"
   ]
  },
  {
   "cell_type": "code",
   "execution_count": 22,
   "id": "b71b375c",
   "metadata": {},
   "outputs": [
    {
     "data": {
      "text/plain": [
       "'Strings are very'"
      ]
     },
     "execution_count": 22,
     "metadata": {},
     "output_type": "execute_result"
    }
   ],
   "source": [
    "my_str[:16]"
   ]
  },
  {
   "cell_type": "code",
   "execution_count": 23,
   "id": "7fd31420",
   "metadata": {},
   "outputs": [
    {
     "data": {
      "text/plain": [
       "' useful'"
      ]
     },
     "execution_count": 23,
     "metadata": {},
     "output_type": "execute_result"
    }
   ],
   "source": [
    "my_str[16:]"
   ]
  },
  {
   "cell_type": "code",
   "execution_count": 24,
   "id": "7704b24d",
   "metadata": {},
   "outputs": [
    {
     "data": {
      "text/plain": [
       "'23'"
      ]
     },
     "execution_count": 24,
     "metadata": {},
     "output_type": "execute_result"
    }
   ],
   "source": [
    "\"23\""
   ]
  },
  {
   "cell_type": "code",
   "execution_count": 25,
   "id": "aecedcb4",
   "metadata": {},
   "outputs": [
    {
     "data": {
      "text/plain": [
       "'2323'"
      ]
     },
     "execution_count": 25,
     "metadata": {},
     "output_type": "execute_result"
    }
   ],
   "source": [
    "\"23\" + \"23\""
   ]
  },
  {
   "cell_type": "code",
   "execution_count": 26,
   "id": "6484558e",
   "metadata": {},
   "outputs": [
    {
     "data": {
      "text/plain": [
       "46"
      ]
     },
     "execution_count": 26,
     "metadata": {},
     "output_type": "execute_result"
    }
   ],
   "source": [
    "23 + 23"
   ]
  },
  {
   "cell_type": "code",
   "execution_count": 27,
   "id": "1777c65b",
   "metadata": {},
   "outputs": [
    {
     "data": {
      "text/plain": [
       "'We like Python'"
      ]
     },
     "execution_count": 27,
     "metadata": {},
     "output_type": "execute_result"
    }
   ],
   "source": [
    "\"We like\" + \" Python\""
   ]
  },
  {
   "cell_type": "code",
   "execution_count": 28,
   "id": "39b2ce95",
   "metadata": {},
   "outputs": [
    {
     "data": {
      "text/plain": [
       "6"
      ]
     },
     "execution_count": 28,
     "metadata": {},
     "output_type": "execute_result"
    }
   ],
   "source": [
    "4 + 2"
   ]
  },
  {
   "cell_type": "code",
   "execution_count": 29,
   "id": "b8c11513",
   "metadata": {},
   "outputs": [
    {
     "data": {
      "text/plain": [
       "18"
      ]
     },
     "execution_count": 29,
     "metadata": {},
     "output_type": "execute_result"
    }
   ],
   "source": [
    "30- 12"
   ]
  },
  {
   "cell_type": "code",
   "execution_count": 30,
   "id": "8a8497ed",
   "metadata": {},
   "outputs": [
    {
     "data": {
      "text/plain": [
       "56"
      ]
     },
     "execution_count": 30,
     "metadata": {},
     "output_type": "execute_result"
    }
   ],
   "source": [
    "8*7"
   ]
  },
  {
   "cell_type": "code",
   "execution_count": 31,
   "id": "7affe11a",
   "metadata": {},
   "outputs": [
    {
     "data": {
      "text/plain": [
       "3.0"
      ]
     },
     "execution_count": 31,
     "metadata": {},
     "output_type": "execute_result"
    }
   ],
   "source": [
    "12/4"
   ]
  },
  {
   "cell_type": "code",
   "execution_count": 33,
   "id": "e946c9cd",
   "metadata": {},
   "outputs": [
    {
     "data": {
      "text/plain": [
       "4.5"
      ]
     },
     "execution_count": 33,
     "metadata": {},
     "output_type": "execute_result"
    }
   ],
   "source": [
    "2.5 + 2"
   ]
  },
  {
   "cell_type": "code",
   "execution_count": 34,
   "id": "c618bc0d",
   "metadata": {},
   "outputs": [
    {
     "data": {
      "text/plain": [
       "1"
      ]
     },
     "execution_count": 34,
     "metadata": {},
     "output_type": "execute_result"
    }
   ],
   "source": [
    "7%3"
   ]
  },
  {
   "cell_type": "code",
   "execution_count": 37,
   "id": "32904802",
   "metadata": {},
   "outputs": [
    {
     "data": {
      "text/plain": [
       "True"
      ]
     },
     "execution_count": 37,
     "metadata": {},
     "output_type": "execute_result"
    }
   ],
   "source": [
    "odd = 7\n",
    "even = 6\n",
    "\n",
    "# is equal to ==\n",
    "even % 2 == 0"
   ]
  },
  {
   "cell_type": "code",
   "execution_count": 38,
   "id": "146d8e2f",
   "metadata": {},
   "outputs": [
    {
     "data": {
      "text/plain": [
       "True"
      ]
     },
     "execution_count": 38,
     "metadata": {},
     "output_type": "execute_result"
    }
   ],
   "source": [
    "\n",
    "# != not equal to\n",
    "odd % 2 != 0"
   ]
  },
  {
   "cell_type": "code",
   "execution_count": 39,
   "id": "3fbe887b",
   "metadata": {},
   "outputs": [
    {
     "data": {
      "text/plain": [
       "bool"
      ]
     },
     "execution_count": 39,
     "metadata": {},
     "output_type": "execute_result"
    }
   ],
   "source": [
    "type(True)"
   ]
  },
  {
   "cell_type": "code",
   "execution_count": 40,
   "id": "45649cf4",
   "metadata": {},
   "outputs": [
    {
     "data": {
      "text/plain": [
       "(True, False)"
      ]
     },
     "execution_count": 40,
     "metadata": {},
     "output_type": "execute_result"
    }
   ],
   "source": [
    "True, False"
   ]
  },
  {
   "cell_type": "code",
   "execution_count": 41,
   "id": "43a4f6bd",
   "metadata": {},
   "outputs": [
    {
     "data": {
      "text/plain": [
       "1"
      ]
     },
     "execution_count": 41,
     "metadata": {},
     "output_type": "execute_result"
    }
   ],
   "source": [
    "True + False"
   ]
  },
  {
   "cell_type": "markdown",
   "id": "9993d77e",
   "metadata": {},
   "source": [
    "## Conditional logic | if-statements, and, or"
   ]
  },
  {
   "cell_type": "code",
   "execution_count": 43,
   "id": "86f08c23",
   "metadata": {},
   "outputs": [],
   "source": [
    "is_hungry = False\n",
    "\n",
    "if is_hungry:\n",
    "    print(\"Time for Fika\")"
   ]
  },
  {
   "cell_type": "code",
   "execution_count": 44,
   "id": "ffb4a31a",
   "metadata": {},
   "outputs": [
    {
     "name": "stdout",
     "output_type": "stream",
     "text": [
      "You don't need to eat\n"
     ]
    }
   ],
   "source": [
    "is_hungry = False\n",
    "\n",
    "if is_hungry:\n",
    "    print(\"Time for Fika\")\n",
    "else:\n",
    "    print(\"You don't need to eat\")"
   ]
  },
  {
   "cell_type": "code",
   "execution_count": 52,
   "id": "e1ea513c",
   "metadata": {},
   "outputs": [],
   "source": [
    "age = int(age)"
   ]
  },
  {
   "cell_type": "code",
   "execution_count": 53,
   "id": "12782c87",
   "metadata": {},
   "outputs": [
    {
     "name": "stdout",
     "output_type": "stream",
     "text": [
      "Adult\n"
     ]
    }
   ],
   "source": [
    "#age = 28\n",
    "\n",
    "if age >= 0 and age < 13:\n",
    "    print(\"Child\")\n",
    "elif age >= 13 and age < 20:\n",
    "    print(\"Teenager\")\n",
    "elif age >= 20 and age < 67:\n",
    "    print(\"Adult\")\n",
    "else:\n",
    "    print(\"You are retired\")"
   ]
  },
  {
   "cell_type": "markdown",
   "id": "07798f20",
   "metadata": {},
   "source": [
    "## Lists"
   ]
  },
  {
   "cell_type": "code",
   "execution_count": 54,
   "id": "3009baf1",
   "metadata": {},
   "outputs": [],
   "source": [
    "lst = [\"lists are the most common data structures in python\", \"can hold any data type\", 2, True, 3.5, [1,2,3]]"
   ]
  },
  {
   "cell_type": "code",
   "execution_count": 55,
   "id": "b94624e4",
   "metadata": {},
   "outputs": [
    {
     "data": {
      "text/plain": [
       "['lists are the most common data structures in python',\n",
       " 'can hold any data type',\n",
       " 2,\n",
       " True,\n",
       " 3.5,\n",
       " [1, 2, 3]]"
      ]
     },
     "execution_count": 55,
     "metadata": {},
     "output_type": "execute_result"
    }
   ],
   "source": [
    "lst"
   ]
  },
  {
   "cell_type": "code",
   "execution_count": 56,
   "id": "98138406",
   "metadata": {},
   "outputs": [
    {
     "data": {
      "text/plain": [
       "6"
      ]
     },
     "execution_count": 56,
     "metadata": {},
     "output_type": "execute_result"
    }
   ],
   "source": [
    "len(lst)"
   ]
  },
  {
   "cell_type": "code",
   "execution_count": 57,
   "id": "5a227757",
   "metadata": {},
   "outputs": [
    {
     "data": {
      "text/plain": [
       "'lists are the most common data structures in python'"
      ]
     },
     "execution_count": 57,
     "metadata": {},
     "output_type": "execute_result"
    }
   ],
   "source": [
    "lst[0]"
   ]
  },
  {
   "cell_type": "code",
   "execution_count": null,
   "id": "b4475164",
   "metadata": {},
   "outputs": [],
   "source": []
  }
 ],
 "metadata": {
  "kernelspec": {
   "display_name": "Python 3 (ipykernel)",
   "language": "python",
   "name": "python3"
  },
  "language_info": {
   "codemirror_mode": {
    "name": "ipython",
    "version": 3
   },
   "file_extension": ".py",
   "mimetype": "text/x-python",
   "name": "python",
   "nbconvert_exporter": "python",
   "pygments_lexer": "ipython3",
   "version": "3.11.5"
  },
  "varInspector": {
   "cols": {
    "lenName": 16,
    "lenType": 16,
    "lenVar": 40
   },
   "kernels_config": {
    "python": {
     "delete_cmd_postfix": "",
     "delete_cmd_prefix": "del ",
     "library": "var_list.py",
     "varRefreshCmd": "print(var_dic_list())"
    },
    "r": {
     "delete_cmd_postfix": ") ",
     "delete_cmd_prefix": "rm(",
     "library": "var_list.r",
     "varRefreshCmd": "cat(var_dic_list()) "
    }
   },
   "types_to_exclude": [
    "module",
    "function",
    "builtin_function_or_method",
    "instance",
    "_Feature"
   ],
   "window_display": false
  }
 },
 "nbformat": 4,
 "nbformat_minor": 5
}
