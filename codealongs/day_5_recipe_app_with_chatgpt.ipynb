{
 "cells": [
  {
   "cell_type": "markdown",
   "id": "61a7f91e",
   "metadata": {},
   "source": [
    "<img align=\"center\" src=\"https://iili.io/3wI8gI.png\" style=\"height:90px\" style=\"width:30px\"/>"
   ]
  },
  {
   "cell_type": "code",
   "execution_count": 1,
   "id": "2e31ec98",
   "metadata": {},
   "outputs": [],
   "source": [
    "from selenium import webdriver\n",
    "from selenium.webdriver.common.by import By\n",
    "from selenium.webdriver.support.ui import WebDriverWait\n",
    "import requests\n",
    "from bs4 import BeautifulSoup\n",
    "from openai import OpenAI\n",
    "from twilio.rest import Client"
   ]
  },
  {
   "cell_type": "code",
   "execution_count": 13,
   "id": "6ad3c729",
   "metadata": {},
   "outputs": [],
   "source": [
    "url = \"https://www.ica.se/erbjudanden/ica-supermarket-medborgarplatsen-1003941/\"\n",
    "client = OpenAI()\n",
    "account_sid = 'your_account_sd'\n",
    "auth_token = 'your_auth_token'\n",
    "my_twilio_number = \"+16413299119\"\n",
    "my_phone_number = \"+46702398619\"\n",
    "client_twilio = Client(account_sid, auth_token)\n",
    "\n",
    "# Describe the role and give instructions to ChatGPT\n",
    "role = \"Du är en kreativ kock som är väldigt duktig på att rekommendera enkla maträtter baserat på tillgängliga ingredienser.\"\n",
    "instructions = \"Jag vill att du rekommenderar mig maträtter som jag kan laga till middag och sedan göra matlåda av. Du får en lista med veckans rabatterade priser från en matbutik. Du ska använda listan för att skapa 3 enkla recept. Du får också lägga till basvaror (pasta, ris, potatis, lök, couscous, ägg, billigare grönsaker, etc.), även om de inte är med på listan.\\nJag vill att du genererar 3 rätter i rubrikform och under varje rubrik/rätt så ska det finnas en lista med ingredienser för 4 portioner. Det är viktigt att enheterna är i enlighet med det metriska systemet. Under listan med ingredienser ska du beskriva väldigt kort hur man tillagar rätten.\"\n",
    "\n",
    "\n",
    "def scrape_your_local_ica(url):\n",
    "    driver = webdriver.Chrome()\n",
    "    driver.maximize_window()\n",
    "    driver.get(url)\n",
    "\n",
    "    # find and click cookie button\"\n",
    "    agree_button_selector = \"button#onetrust-accept-btn-handler\"\n",
    "    WebDriverWait(driver, 3)\n",
    "    element = driver.find_element(By.CSS_SELECTOR, agree_button_selector)\n",
    "    element.click()\n",
    "    # scroll to bottoom of page\n",
    "    driver.execute_script(\"window.scrollTo(0, document.body.scrollHeight);\")\n",
    "    # generate a soup\n",
    "    soup = BeautifulSoup(driver.page_source, \"lxml\")\n",
    "    key = \"article > div:nth-child(3)\"\n",
    "    containers = soup.select(key)\n",
    "    offers = [i.text for i in containers]\n",
    "    return offers\n",
    "\n",
    "\n",
    "def chat_gpt_bot(client, instructions, prompt):\n",
    "    completion = client.chat.completions.create(\n",
    "                    model=\"gpt-3.5-turbo\",\n",
    "                    messages=[\n",
    "                        {\"role\": \"system\", \"content\": instructions},\n",
    "                        {\"role\": \"user\", \"content\": prompt}\n",
    "                    ])\n",
    "    return completion\n",
    "\n",
    "def send_text(from_number, to_number, text_message):\n",
    "    message = client_twilio.messages.create(from_=from_number, to=to_number, body=text_message)\n",
    "    \n",
    "# scrape and retrieve offers from local Ica store\n",
    "context = scrape_your_local_ica(url)\n",
    "#pass cheap products alongside instructions to chat gpt func\n",
    "completion = chat_gpt_bot(client, role, instructions+\"\\n\"+str(context))\n",
    "# generate shopping list    \n",
    "shopping_lst = chat_gpt_bot(client, \"Hjälpreda\", \"Generera en inköpslista i punktform med sammanlagda enheter av följande information: \"+completion.choices[0].message.content)\n",
    "# send shopping list by text\n",
    "send_text(my_twilio_number, my_phone_number, shopping_lst.choices[0].message.content)\n",
    "# write a txt file\n",
    "with open(\"weekly_recipe.txt\", \"w\") as file:\n",
    "    file.write(completion.choices[0].message.content)\n",
    "                               "
   ]
  },
  {
   "cell_type": "code",
   "execution_count": null,
   "id": "85cb0f28",
   "metadata": {},
   "outputs": [],
   "source": []
  }
 ],
 "metadata": {
  "kernelspec": {
   "display_name": "Python 3 (ipykernel)",
   "language": "python",
   "name": "python3"
  },
  "language_info": {
   "codemirror_mode": {
    "name": "ipython",
    "version": 3
   },
   "file_extension": ".py",
   "mimetype": "text/x-python",
   "name": "python",
   "nbconvert_exporter": "python",
   "pygments_lexer": "ipython3",
   "version": "3.11.5"
  },
  "varInspector": {
   "cols": {
    "lenName": 16,
    "lenType": 16,
    "lenVar": 40
   },
   "kernels_config": {
    "python": {
     "delete_cmd_postfix": "",
     "delete_cmd_prefix": "del ",
     "library": "var_list.py",
     "varRefreshCmd": "print(var_dic_list())"
    },
    "r": {
     "delete_cmd_postfix": ") ",
     "delete_cmd_prefix": "rm(",
     "library": "var_list.r",
     "varRefreshCmd": "cat(var_dic_list()) "
    }
   },
   "types_to_exclude": [
    "module",
    "function",
    "builtin_function_or_method",
    "instance",
    "_Feature"
   ],
   "window_display": false
  }
 },
 "nbformat": 4,
 "nbformat_minor": 5
}
